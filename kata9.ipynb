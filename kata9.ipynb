{
 "cells": [
  {
   "cell_type": "markdown",
   "metadata": {},
   "source": [
    "KATA 9\n",
    "\n",
    "Ejerccio 1: funciones"
   ]
  },
  {
   "cell_type": "code",
   "execution_count": 13,
   "metadata": {},
   "outputs": [],
   "source": [
    "def informe(tanque1, tanque2, tanque3):\n",
    "  promedio = (tanque1+tanque2+tanque3) / 3\n",
    "\n",
    "  return f\"\"\" reporte de combustible:\n",
    "  total : {promedio}% \n",
    "  tanque1 : {tanque1}%\n",
    "  tanque2 : {tanque2}%\n",
    "  tanque3 : {tanque3}% \n",
    "  \"\"\"\n"
   ]
  },
  {
   "cell_type": "code",
   "execution_count": 16,
   "metadata": {},
   "outputs": [
    {
     "name": "stdout",
     "output_type": "stream",
     "text": [
      " reporte de combustible:\n",
      "  total : 66.66666666666667% \n",
      "  tanque1 : 0%\n",
      "  tanque2 : 100%\n",
      "  tanque3 : 100% \n",
      "  \n"
     ]
    }
   ],
   "source": [
    "print(informe(0,100,100))"
   ]
  },
  {
   "cell_type": "code",
   "execution_count": 21,
   "metadata": {},
   "outputs": [
    {
     "name": "stdout",
     "output_type": "stream",
     "text": [
      "246\n",
      "3\n"
     ]
    },
    {
     "data": {
      "text/plain": [
       "82.0"
      ]
     },
     "execution_count": 21,
     "metadata": {},
     "output_type": "execute_result"
    }
   ],
   "source": [
    "def promedio(*tanques):\n",
    "    tanque_total =sum(tanques)\n",
    "    print(tanque_total)\n",
    "    nTanques = len(tanques)\n",
    "    print(nTanques)\n",
    "    return tanque_total / nTanques\n",
    "\n",
    "promedio(80,85,81)"
   ]
  },
  {
   "cell_type": "code",
   "execution_count": 23,
   "metadata": {},
   "outputs": [
    {
     "name": "stdout",
     "output_type": "stream",
     "text": [
      "246\n",
      "3\n",
      " reporte de combustible:\n",
      "  total : 82.0% \n",
      "  tanque1 : 80%\n",
      "  tanque2 : 85%\n",
      "  tanque3 : 81% \n",
      "  \n"
     ]
    }
   ],
   "source": [
    "def informe(tanque1, tanque2, tanque3):\n",
    "\n",
    "  return f\"\"\" reporte de combustible:\n",
    "  total : {promedio(tanque1,tanque2,tanque3)}% \n",
    "  tanque1 : {tanque1}%\n",
    "  tanque2 : {tanque2}%\n",
    "  tanque3 : {tanque3}% \n",
    "  \"\"\"\n",
    "print(informe(80,85,81))"
   ]
  },
  {
   "cell_type": "markdown",
   "metadata": {},
   "source": [
    "Ejercicio 2\n",
    "\n",
    "argumetos palabras clave"
   ]
  },
  {
   "cell_type": "code",
   "execution_count": 27,
   "metadata": {},
   "outputs": [
    {
     "name": "stdout",
     "output_type": "stream",
     "text": [
      " Informe de vuelo:\n",
      "  el tiempo de prelanzamiento es : 14 min \n",
      "  el tiempo de vuelo estimado es : 51 min\n",
      "  tiempo total es 65 min\n",
      "  el destino es : marte\n",
      "  el combustible dispoble :\n",
      "    Tanque Interno 20 lts\n",
      "    Tanque Externo 80 lts\n",
      "    Conbustible total: 100 lts \n",
      "     \n"
     ]
    }
   ],
   "source": [
    "def informe(preLanzamiento, tiempoVuelo, destino, tExterno, tInterno):\n",
    "\n",
    "\n",
    "  return f\"\"\" Informe de vuelo:\n",
    "  el tiempo de prelanzamiento es : {preLanzamiento} min \n",
    "  el tiempo de vuelo estimado es : {tiempoVuelo} min\n",
    "  tiempo total es {preLanzamiento + tiempoVuelo} min\n",
    "  el destino es : {destino}\n",
    "  el combustible dispoble :\n",
    "    Tanque Interno {tInterno} lts\n",
    "    Tanque Externo {tExterno} lts\n",
    "    Conbustible total: {tInterno+tExterno} lts \n",
    "     \"\"\"\n",
    "\n",
    "print(informe(14,51,'marte', 80, 20))"
   ]
  },
  {
   "cell_type": "code",
   "execution_count": 31,
   "metadata": {},
   "outputs": [
    {
     "name": "stdout",
     "output_type": "stream",
     "text": [
      " Informe de vuelo:\n",
      "  tiempo total de vuelo: 200 minutos \n",
      "  Combustible total : 600 lts\n",
      "  Destino : vega\n",
      "   \n",
      "  \n"
     ]
    }
   ],
   "source": [
    "def informe(destino, *tiempos, **tanques):\n",
    "\n",
    "  return f\"\"\" Informe de vuelo:\n",
    "  tiempo total de vuelo: {sum(tiempos)} minutos \n",
    "  Combustible total : {sum(tanques.values())} lts\n",
    "  Destino : {destino}\n",
    "   \n",
    "  \"\"\"\n",
    "print(informe('vega',15,15,150,10,10,p1=200,p2=300,reserva=100))"
   ]
  },
  {
   "cell_type": "code",
   "execution_count": 37,
   "metadata": {},
   "outputs": [
    {
     "name": "stdout",
     "output_type": "stream",
     "text": [
      " Informe de vuelo:\n",
      "     Destino : vega\n",
      "     tiempo total de vuelo: 200 minutos \n",
      "     Combustible total : 600 lts\n",
      "    tanque p1 tiene: 200 lts\n",
      "tanque p2 tiene: 300 lts\n",
      "tanque reserva tiene: 100 lts\n",
      "\n"
     ]
    }
   ],
   "source": [
    "def informe(destino, *tiempos, **tanques):\n",
    "    \n",
    "    reporte = f\"\"\" Informe de vuelo:\n",
    "     Destino : {destino}\n",
    "     tiempo total de vuelo: {sum(tiempos)} minutos \n",
    "      Combustible total : {sum(tanques.values())} lts\n",
    "    \"\"\"\n",
    "    for tNombre, litros in tanques.items():\n",
    "      reporte +=f'tanque {tNombre} tiene: {litros} lts\\n'\n",
    "\n",
    "    return reporte\n",
    " \n",
    "   \n",
    "print(informe('vega',15,15,150,10,10,p1=200,p2=300,reserva=100))"
   ]
  }
 ],
 "metadata": {
  "interpreter": {
   "hash": "bd4798b2727d8c01043f69d8ad6be6d289365f357bc3235fe682e3f4be5732ea"
  },
  "kernelspec": {
   "display_name": "Python 3.10.2 64-bit",
   "language": "python",
   "name": "python3"
  },
  "language_info": {
   "codemirror_mode": {
    "name": "ipython",
    "version": 3
   },
   "file_extension": ".py",
   "mimetype": "text/x-python",
   "name": "python",
   "nbconvert_exporter": "python",
   "pygments_lexer": "ipython3",
   "version": "3.10.2"
  },
  "orig_nbformat": 4
 },
 "nbformat": 4,
 "nbformat_minor": 2
}
