{
 "cells": [
  {
   "cell_type": "markdown",
   "metadata": {},
   "source": [
    "KATA 7\n",
    "\n",
    "Ejercicio 1: While"
   ]
  },
  {
   "cell_type": "code",
   "execution_count": 13,
   "metadata": {},
   "outputs": [],
   "source": [
    "new_planet = ''\n",
    "\n",
    "planets = []\n",
    "\n",
    "#planets = ['mercurio', 'venus', 'tierra', 'marte', 'jupiter', 'saturno', 'urano', 'neptuno']"
   ]
  },
  {
   "cell_type": "code",
   "execution_count": 14,
   "metadata": {},
   "outputs": [],
   "source": [
    "while new_planet.lower() != 'done':\n",
    "    if new_planet:\n",
    "        planets.append(new_planet)\n",
    "    \n",
    "\n",
    "\n",
    "    new_planet = input('escribe neuvo planeta')"
   ]
  },
  {
   "cell_type": "markdown",
   "metadata": {},
   "source": [
    "Ejercicio 2: lista de planetas"
   ]
  },
  {
   "cell_type": "code",
   "execution_count": 15,
   "metadata": {},
   "outputs": [
    {
     "name": "stdout",
     "output_type": "stream",
     "text": [
      "el planeta es  marte\n",
      "el planeta es  luna\n",
      "el planeta es  ejenjo\n",
      "el planeta es  cibertron\n"
     ]
    }
   ],
   "source": [
    "for planeta in planets:\n",
    "    print(\"el planeta es \", planeta)\n",
    "\n"
   ]
  }
 ],
 "metadata": {
  "interpreter": {
   "hash": "bd4798b2727d8c01043f69d8ad6be6d289365f357bc3235fe682e3f4be5732ea"
  },
  "kernelspec": {
   "display_name": "Python 3.10.2 64-bit",
   "language": "python",
   "name": "python3"
  },
  "language_info": {
   "codemirror_mode": {
    "name": "ipython",
    "version": 3
   },
   "file_extension": ".py",
   "mimetype": "text/x-python",
   "name": "python",
   "nbconvert_exporter": "python",
   "pygments_lexer": "ipython3",
   "version": "3.10.2"
  },
  "orig_nbformat": 4
 },
 "nbformat": 4,
 "nbformat_minor": 2
}
