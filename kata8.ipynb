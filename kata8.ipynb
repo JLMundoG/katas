{
 "cells": [
  {
   "cell_type": "markdown",
   "metadata": {},
   "source": [
    "KATA 8\n",
    "\n",
    "Ejercicio 1: cresar diccionario"
   ]
  },
  {
   "cell_type": "code",
   "execution_count": 11,
   "metadata": {},
   "outputs": [
    {
     "name": "stdout",
     "output_type": "stream",
     "text": [
      "2\n"
     ]
    }
   ],
   "source": [
    "planeta = {\n",
    "    'nombre' : 'Marte',\n",
    "    'lunas' : '2' \n",
    "}\n",
    "\n"
   ]
  },
  {
   "cell_type": "code",
   "execution_count": 13,
   "metadata": {},
   "outputs": [
    {
     "name": "stdout",
     "output_type": "stream",
     "text": [
      "2\n",
      "Marte\n"
     ]
    }
   ],
   "source": [
    "print(planeta['lunas'])\n",
    "\n",
    "print(planeta.get('nombre'))"
   ]
  },
  {
   "cell_type": "code",
   "execution_count": 14,
   "metadata": {},
   "outputs": [],
   "source": [
    "planeta['circunferencia'] = {\n",
    "    'polar' :'6752',\n",
    "    'ecuatorial' : '6792'\n",
    "}"
   ]
  },
  {
   "cell_type": "code",
   "execution_count": 15,
   "metadata": {},
   "outputs": [
    {
     "name": "stdout",
     "output_type": "stream",
     "text": [
      "{'nombre': 'Marte', 'lunas': '2', 'circunferencia': {'polar': '6752', 'ecuatorial': '6792'}}\n"
     ]
    }
   ],
   "source": [
    "print(planeta)"
   ]
  },
  {
   "cell_type": "code",
   "execution_count": 29,
   "metadata": {},
   "outputs": [
    {
     "name": "stdout",
     "output_type": "stream",
     "text": [
      "el planeta Marte tiene una circunferencia polar de 6752  \n"
     ]
    }
   ],
   "source": [
    "print(f'el planeta {planeta[\"nombre\"]} tiene una circunferencia polar de {planeta[\"circunferencia\"][\"polar\"]}  ')"
   ]
  },
  {
   "cell_type": "markdown",
   "metadata": {},
   "source": [
    "Ejercicio 2\n",
    "\n",
    "diccionaro dinamico"
   ]
  },
  {
   "cell_type": "code",
   "execution_count": 16,
   "metadata": {},
   "outputs": [],
   "source": [
    "# Planetas y lunas\n",
    "\n",
    "planeta_lunas = {\n",
    "    'mercury': 0,\n",
    "    'venus': 0,\n",
    "    'earth': 1,\n",
    "    'mars': 2,\n",
    "    'jupiter': 79,\n",
    "    'saturn': 82,\n",
    "    'uranus': 27,\n",
    "    'neptune': 14,\n",
    "    'pluto': 5,\n",
    "    'haumea': 2,\n",
    "    'makemake': 1,\n",
    "    'eris': 1\n",
    "}"
   ]
  },
  {
   "cell_type": "code",
   "execution_count": 26,
   "metadata": {},
   "outputs": [
    {
     "name": "stdout",
     "output_type": "stream",
     "text": [
      "dict_values([0, 0, 1, 2, 79, 82, 27, 14, 5, 2, 1, 1])\n",
      "214\n",
      "12\n"
     ]
    }
   ],
   "source": [
    "lunas = 0\n",
    "\n",
    "lunas2= planeta_lunas.values();\n",
    "print(lunas2)\n",
    "\n",
    "for values in planeta_lunas.values():\n",
    "    lunas = lunas + values\n",
    "\n",
    "print(lunas)\n",
    "\n",
    "planetas = len(planeta_lunas.keys());\n",
    "print(planetas)"
   ]
  },
  {
   "cell_type": "code",
   "execution_count": 30,
   "metadata": {},
   "outputs": [
    {
     "name": "stdout",
     "output_type": "stream",
     "text": [
      "17.833333333333332\n"
     ]
    }
   ],
   "source": [
    "promedio = lunas / planetas\n",
    "\n",
    "print(promedio)\n"
   ]
  }
 ],
 "metadata": {
  "interpreter": {
   "hash": "bd4798b2727d8c01043f69d8ad6be6d289365f357bc3235fe682e3f4be5732ea"
  },
  "kernelspec": {
   "display_name": "Python 3.10.2 64-bit",
   "language": "python",
   "name": "python3"
  },
  "language_info": {
   "codemirror_mode": {
    "name": "ipython",
    "version": 3
   },
   "file_extension": ".py",
   "mimetype": "text/x-python",
   "name": "python",
   "nbconvert_exporter": "python",
   "pygments_lexer": "ipython3",
   "version": "3.10.2"
  },
  "orig_nbformat": 4
 },
 "nbformat": 4,
 "nbformat_minor": 2
}
