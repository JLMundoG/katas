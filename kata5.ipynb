{
 "cells": [
  {
   "cell_type": "markdown",
   "metadata": {},
   "source": [
    "KATA 5"
   ]
  },
  {
   "cell_type": "markdown",
   "metadata": {},
   "source": [
    "EJERCICIO 1"
   ]
  },
  {
   "cell_type": "code",
   "execution_count": 9,
   "metadata": {},
   "outputs": [
    {
     "name": "stdout",
     "output_type": "stream",
     "text": [
      "distancia en kilimetros:  628949330\n",
      "distancia en millas:  390577534\n"
     ]
    }
   ],
   "source": [
    "dTierra = 149597870\n",
    "dJúpiter= 778547200\n",
    "\n",
    "#distancia entre planetas\n",
    "#(en kilometros)\n",
    "\n",
    "Distancia_entre_planetas =dJúpiter - dTierra\n",
    "print('distancia en kilimetros: ',Distancia_entre_planetas)\n",
    "\n",
    "# en millas\n",
    "Distancia_millas = Distancia_entre_planetas * 0.621\n",
    "\n",
    "print('distancia en millas: ',round(Distancia_millas))"
   ]
  },
  {
   "cell_type": "markdown",
   "metadata": {},
   "source": [
    "EJERCICIO 2"
   ]
  },
  {
   "cell_type": "code",
   "execution_count": 12,
   "metadata": {},
   "outputs": [
    {
     "name": "stdout",
     "output_type": "stream",
     "text": [
      "distancia en kilimetros:  50300000\n",
      "distancia en millas:  31236300\n"
     ]
    }
   ],
   "source": [
    "# Almacenar las entradas del usuario\n",
    "\n",
    "planeta1 = input(\"cual es la distancia del primer planeta\")\n",
    "planeta2 = input(\"cual es la distancia del segundo planeta\")\n",
    "\n",
    "distancia = abs(int(planeta2) - int(planeta1))\n",
    "print('distancia en kilimetros: ',distancia)\n",
    "\n",
    "dMillas=distancia * 0.621\n",
    "print('distancia en millas: ',int(dMillas))\n",
    "\n"
   ]
  }
 ],
 "metadata": {
  "interpreter": {
   "hash": "bd4798b2727d8c01043f69d8ad6be6d289365f357bc3235fe682e3f4be5732ea"
  },
  "kernelspec": {
   "display_name": "Python 3.10.2 64-bit",
   "language": "python",
   "name": "python3"
  },
  "language_info": {
   "codemirror_mode": {
    "name": "ipython",
    "version": 3
   },
   "file_extension": ".py",
   "mimetype": "text/x-python",
   "name": "python",
   "nbconvert_exporter": "python",
   "pygments_lexer": "ipython3",
   "version": "3.10.2"
  },
  "orig_nbformat": 4
 },
 "nbformat": 4,
 "nbformat_minor": 2
}
